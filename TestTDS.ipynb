{
 "cells": [
  {
   "cell_type": "code",
   "execution_count": 2,
   "id": "8657f9aa",
   "metadata": {},
   "outputs": [
    {
     "name": "stdout",
     "output_type": "stream",
     "text": [
      "Dataset shape: (1998, 4)\n",
      "\n",
      "First few rows:\n",
      "  Booking Status    Hotel Country Name  Room Nights  Guests\n",
      "0      Confirmed                Turkey            1       2\n",
      "1       Rejected                Russia            6       2\n",
      "2      Cancelled                Russia            6       2\n",
      "3       Rejected        Czech Republic            4       4\n",
      "4      Confirmed  United Arab Emirates            1       2\n"
     ]
    }
   ],
   "source": [
    "import pandas as pd\n",
    "\n",
    "# Load the CSV file\n",
    "df = pd.read_csv(r'C:\\Users\\Andrei.Baidurov\\testTRAV\\Data\\TDStest2.csv')\n",
    "\n",
    "# Display basic information about the dataset\n",
    "print(\"Dataset shape:\", df.shape)\n",
    "print(\"\\nFirst few rows:\")\n",
    "print(df.head())"
   ]
  },
  {
   "cell_type": "code",
   "execution_count": 5,
   "id": "db13fdf3",
   "metadata": {},
   "outputs": [
    {
     "data": {
      "application/vnd.plotly.v1+json": {
       "config": {
        "plotlyServerURL": "https://plot.ly"
       },
       "data": [
        {
         "coloraxis": "coloraxis",
         "customdata": {
          "bdata": "j8L1KFyPAEBSuB6F61ECQAAAAAAAAAhAAAAAAAAA8D8AAAAAAAAYQAAAAAAAAPA/CtejcD0K+z8AAAAAAAACQFK4HoXrURRA16NwPQrXAUAAAAAAAADwPwAAAAAAAPA/AAAAAAAAEEAAAAAAAAAAQEjhehSuR/0/AAAAAAAAAEAAAAAAAAAIQAAAAAAAAARAAAAAAAAAAEAAAAAAAAAQQAAAAAAAABBAAAAAAAAAGEDNzMzMzMwEQJqZmZmZmfk/AAAAAAAAHkCuR+F6FK4UQDMzMzMzM/8/uB6F61G4AEAAAAAAAAAIQAAAAAAAAPA/AAAAAAAAAEAAAAAAAAAIQHsUrkfhehBAUrgehetRCkAfhetRuB75PwAAAAAAAABAAAAAAACAJUAAAAAAAAASQAAAAAAAAAxAAAAAAAAACEAAAAAAAAD8P/YoXI/C9QRA16NwPQrXGUDNzMzMzMwEQAAAAAAAAPA/AAAAAAAA8D89CtejcD0SQOxRuB6F6wtAcT0K16NwEEAfhetRuB4DQAAAAAAAACRAAAAAAAAAAEBI4XoUrkcWQD0K16NwPQZAAAAAAAAA8D8AAAAAAAAAQAAAAAAAABxAAAAAAAAAAECuR+F6FK4WQAAAAAAAAABAAAAAAAAAGEAAAAAAAAAAQAAAAAAAAApAAAAAAAAA/D8K16NwPQoNQHE9CtejcAdASOF6FK5HEkAAAAAAAAAAQJqZmZmZmQVAMzMzMzMzAUAUrkfhehQVQGZmZmZmZgZAAAAAAAAA8D8AAAAAAADwPwAAAAAAADBAAAAAAAAAEEDD9Shcj8IJQLgehetRuABAZmZmZmZmJEAzMzMzMzMLQKRwPQrXowJAAAAAAAAAAEDNzMzMzMwYQAAAAAAAAABAXI/C9ShcD0B7FK5H4XoCQNejcD0KVytArkfhehSuGkAAAAAAAAD0PwAAAAAAAABAAAAAAAAAAEAAAAAAAAAQQAAAAAAAABVAAAAAAAAA/D9mZmZmZmYCQI/C9ShcjwZAAAAAAAAAGEAAAAAAAAAYQBSuR+F6VDhAKVyPwvWoKECamZmZmZkJQJqZmZmZmfk/CtejcD0KD0D2KFyPwvUIQLgehetRuBVArkfhehSuB0AAAAAAAAAAQAAAAAAAAABAAAAAAAAAHECkcD0K16MCQAAAAAAAABRAAAAAAAAAEEAUrkfhehQOQJqZmZmZmf0/mpmZmZmZAUBmZmZmZmYOQAAAAAAAAABAAAAAAAAACEBcj8L1KFwNQKRwPQrXowJAAAAAAAAACEAAAAAAAAAAQNejcD0K1xlAZmZmZmZmEEAK16NwPQoTQLgehetRuARA16NwPQpXI0AAAAAAAAAEQAAAAAAAABBAhetRuB6FE0Bcj8L1KFwaQDMzMzMzMwVAAAAAAAAAIkBcj8L1KFwLQAAAAAAAACFAAAAAAAAAGkAAAAAAAAAQQM3MzMzMzAJAH4XrUbgeEEBI4XoUrkcBQB+F61G4HgFAZmZmZmZmAEAAAAAAAADwPwAAAAAAAABAAAAAAAAACEAAAAAAAADwPwAAAAAAAAhAAAAAAAAAAEA=",
          "dtype": "f8",
          "shape": "74, 2"
         },
         "geo": "geo",
         "hovertemplate": "Hotel Country Name=%{location}<br>Avg_Room_Nights=%{customdata[0]}<br>Avg_Guests=%{customdata[1]}<br>Total_Bookings=%{z}<extra></extra>",
         "locationmode": "country names",
         "locations": [
          "Algeria",
          "Argentina",
          "Armenia",
          "Australia",
          "Austria",
          "Azerbaijan",
          "Bahamas",
          "Bahrain",
          "Belgium",
          "Belize",
          "Bosnia and Herzegovina",
          "Brazil",
          "Bulgaria",
          "Canada",
          "Chile",
          "China",
          "Colombia",
          "Costa Rica",
          "Cyprus",
          "Czech Republic",
          "Dominican Republic",
          "Egypt",
          "El Salvador",
          "France",
          "Germany",
          "Ghana",
          "Greece",
          "Hungary",
          "Iceland",
          "Indonesia",
          "Iran",
          "Iraq",
          "Italy",
          "Japan",
          "Jordan",
          "Kenya",
          "Lithuania",
          "Macedonia",
          "Malaysia",
          "Maldives",
          "Mexico",
          "Montenegro",
          "Morocco",
          "Netherlands",
          "New Zealand",
          "Norway",
          "Oman",
          "Panama",
          "Peru",
          "Philippines",
          "Poland",
          "Portugal",
          "Qatar",
          "Romania",
          "Russia",
          "Saint Lucia",
          "Saudi Arabia",
          "Serbia",
          "Singapore",
          "Slovakia",
          "South Africa",
          "Spain",
          "Sri Lanka",
          "Sweden",
          "Switzerland",
          "Tanzania",
          "Thailand",
          "Tunisia",
          "Turkey",
          "United Arab Emirates",
          "United States",
          "Uruguay",
          "Uzbekistan",
          "Vietnam"
         ],
         "name": "",
         "type": "choropleth",
         "z": {
          "bdata": "DgABAAIAEAANAAEAAgAGAAIAAQACAAUABgBsAAEAAQAYAAcABAACAAgAIwACAC0AEgABAGEAAQABAAMAAQAEAC4ABwAhAA8AAQABACAABQAMAAUAGgADAAQAAQAEACEAAQADAAUAEAAXAAIAAwABAAIBBQABAAMAAgAnADYABgAIABEAGAAEABQAzQF5AQEAAQABAA==",
          "dtype": "i2"
         }
        }
       ],
       "layout": {
        "coloraxis": {
         "colorbar": {
          "tickfont": {
           "color": "#34495e"
          },
          "title": {
           "font": {
            "color": "#2c3e50",
            "size": 14
           },
           "text": "Total_Bookings"
          }
         },
         "colorscale": [
          [
           0,
           "#0d0887"
          ],
          [
           0.1111111111111111,
           "#46039f"
          ],
          [
           0.2222222222222222,
           "#7201a8"
          ],
          [
           0.3333333333333333,
           "#9c179e"
          ],
          [
           0.4444444444444444,
           "#bd3786"
          ],
          [
           0.5555555555555556,
           "#d8576b"
          ],
          [
           0.6666666666666666,
           "#ed7953"
          ],
          [
           0.7777777777777778,
           "#fb9f3a"
          ],
          [
           0.8888888888888888,
           "#fdca26"
          ],
          [
           1,
           "#f0f921"
          ]
         ]
        },
        "font": {
         "color": "#34495e"
        },
        "geo": {
         "center": {},
         "coastlinecolor": "#ecf0f1",
         "domain": {
          "x": [
           0,
           1
          ],
          "y": [
           0,
           1
          ]
         },
         "projection": {
          "type": "equirectangular"
         },
         "showcoastlines": true,
         "showframe": false
        },
        "height": 600,
        "legend": {
         "tracegroupgap": 0
        },
        "paper_bgcolor": "#f8f9fa",
        "template": {
         "data": {
          "bar": [
           {
            "error_x": {
             "color": "#2a3f5f"
            },
            "error_y": {
             "color": "#2a3f5f"
            },
            "marker": {
             "line": {
              "color": "#E5ECF6",
              "width": 0.5
             },
             "pattern": {
              "fillmode": "overlay",
              "size": 10,
              "solidity": 0.2
             }
            },
            "type": "bar"
           }
          ],
          "barpolar": [
           {
            "marker": {
             "line": {
              "color": "#E5ECF6",
              "width": 0.5
             },
             "pattern": {
              "fillmode": "overlay",
              "size": 10,
              "solidity": 0.2
             }
            },
            "type": "barpolar"
           }
          ],
          "carpet": [
           {
            "aaxis": {
             "endlinecolor": "#2a3f5f",
             "gridcolor": "white",
             "linecolor": "white",
             "minorgridcolor": "white",
             "startlinecolor": "#2a3f5f"
            },
            "baxis": {
             "endlinecolor": "#2a3f5f",
             "gridcolor": "white",
             "linecolor": "white",
             "minorgridcolor": "white",
             "startlinecolor": "#2a3f5f"
            },
            "type": "carpet"
           }
          ],
          "choropleth": [
           {
            "colorbar": {
             "outlinewidth": 0,
             "ticks": ""
            },
            "type": "choropleth"
           }
          ],
          "contour": [
           {
            "colorbar": {
             "outlinewidth": 0,
             "ticks": ""
            },
            "colorscale": [
             [
              0,
              "#0d0887"
             ],
             [
              0.1111111111111111,
              "#46039f"
             ],
             [
              0.2222222222222222,
              "#7201a8"
             ],
             [
              0.3333333333333333,
              "#9c179e"
             ],
             [
              0.4444444444444444,
              "#bd3786"
             ],
             [
              0.5555555555555556,
              "#d8576b"
             ],
             [
              0.6666666666666666,
              "#ed7953"
             ],
             [
              0.7777777777777778,
              "#fb9f3a"
             ],
             [
              0.8888888888888888,
              "#fdca26"
             ],
             [
              1,
              "#f0f921"
             ]
            ],
            "type": "contour"
           }
          ],
          "contourcarpet": [
           {
            "colorbar": {
             "outlinewidth": 0,
             "ticks": ""
            },
            "type": "contourcarpet"
           }
          ],
          "heatmap": [
           {
            "colorbar": {
             "outlinewidth": 0,
             "ticks": ""
            },
            "colorscale": [
             [
              0,
              "#0d0887"
             ],
             [
              0.1111111111111111,
              "#46039f"
             ],
             [
              0.2222222222222222,
              "#7201a8"
             ],
             [
              0.3333333333333333,
              "#9c179e"
             ],
             [
              0.4444444444444444,
              "#bd3786"
             ],
             [
              0.5555555555555556,
              "#d8576b"
             ],
             [
              0.6666666666666666,
              "#ed7953"
             ],
             [
              0.7777777777777778,
              "#fb9f3a"
             ],
             [
              0.8888888888888888,
              "#fdca26"
             ],
             [
              1,
              "#f0f921"
             ]
            ],
            "type": "heatmap"
           }
          ],
          "histogram": [
           {
            "marker": {
             "pattern": {
              "fillmode": "overlay",
              "size": 10,
              "solidity": 0.2
             }
            },
            "type": "histogram"
           }
          ],
          "histogram2d": [
           {
            "colorbar": {
             "outlinewidth": 0,
             "ticks": ""
            },
            "colorscale": [
             [
              0,
              "#0d0887"
             ],
             [
              0.1111111111111111,
              "#46039f"
             ],
             [
              0.2222222222222222,
              "#7201a8"
             ],
             [
              0.3333333333333333,
              "#9c179e"
             ],
             [
              0.4444444444444444,
              "#bd3786"
             ],
             [
              0.5555555555555556,
              "#d8576b"
             ],
             [
              0.6666666666666666,
              "#ed7953"
             ],
             [
              0.7777777777777778,
              "#fb9f3a"
             ],
             [
              0.8888888888888888,
              "#fdca26"
             ],
             [
              1,
              "#f0f921"
             ]
            ],
            "type": "histogram2d"
           }
          ],
          "histogram2dcontour": [
           {
            "colorbar": {
             "outlinewidth": 0,
             "ticks": ""
            },
            "colorscale": [
             [
              0,
              "#0d0887"
             ],
             [
              0.1111111111111111,
              "#46039f"
             ],
             [
              0.2222222222222222,
              "#7201a8"
             ],
             [
              0.3333333333333333,
              "#9c179e"
             ],
             [
              0.4444444444444444,
              "#bd3786"
             ],
             [
              0.5555555555555556,
              "#d8576b"
             ],
             [
              0.6666666666666666,
              "#ed7953"
             ],
             [
              0.7777777777777778,
              "#fb9f3a"
             ],
             [
              0.8888888888888888,
              "#fdca26"
             ],
             [
              1,
              "#f0f921"
             ]
            ],
            "type": "histogram2dcontour"
           }
          ],
          "mesh3d": [
           {
            "colorbar": {
             "outlinewidth": 0,
             "ticks": ""
            },
            "type": "mesh3d"
           }
          ],
          "parcoords": [
           {
            "line": {
             "colorbar": {
              "outlinewidth": 0,
              "ticks": ""
             }
            },
            "type": "parcoords"
           }
          ],
          "pie": [
           {
            "automargin": true,
            "type": "pie"
           }
          ],
          "scatter": [
           {
            "fillpattern": {
             "fillmode": "overlay",
             "size": 10,
             "solidity": 0.2
            },
            "type": "scatter"
           }
          ],
          "scatter3d": [
           {
            "line": {
             "colorbar": {
              "outlinewidth": 0,
              "ticks": ""
             }
            },
            "marker": {
             "colorbar": {
              "outlinewidth": 0,
              "ticks": ""
             }
            },
            "type": "scatter3d"
           }
          ],
          "scattercarpet": [
           {
            "marker": {
             "colorbar": {
              "outlinewidth": 0,
              "ticks": ""
             }
            },
            "type": "scattercarpet"
           }
          ],
          "scattergeo": [
           {
            "marker": {
             "colorbar": {
              "outlinewidth": 0,
              "ticks": ""
             }
            },
            "type": "scattergeo"
           }
          ],
          "scattergl": [
           {
            "marker": {
             "colorbar": {
              "outlinewidth": 0,
              "ticks": ""
             }
            },
            "type": "scattergl"
           }
          ],
          "scattermap": [
           {
            "marker": {
             "colorbar": {
              "outlinewidth": 0,
              "ticks": ""
             }
            },
            "type": "scattermap"
           }
          ],
          "scattermapbox": [
           {
            "marker": {
             "colorbar": {
              "outlinewidth": 0,
              "ticks": ""
             }
            },
            "type": "scattermapbox"
           }
          ],
          "scatterpolar": [
           {
            "marker": {
             "colorbar": {
              "outlinewidth": 0,
              "ticks": ""
             }
            },
            "type": "scatterpolar"
           }
          ],
          "scatterpolargl": [
           {
            "marker": {
             "colorbar": {
              "outlinewidth": 0,
              "ticks": ""
             }
            },
            "type": "scatterpolargl"
           }
          ],
          "scatterternary": [
           {
            "marker": {
             "colorbar": {
              "outlinewidth": 0,
              "ticks": ""
             }
            },
            "type": "scatterternary"
           }
          ],
          "surface": [
           {
            "colorbar": {
             "outlinewidth": 0,
             "ticks": ""
            },
            "colorscale": [
             [
              0,
              "#0d0887"
             ],
             [
              0.1111111111111111,
              "#46039f"
             ],
             [
              0.2222222222222222,
              "#7201a8"
             ],
             [
              0.3333333333333333,
              "#9c179e"
             ],
             [
              0.4444444444444444,
              "#bd3786"
             ],
             [
              0.5555555555555556,
              "#d8576b"
             ],
             [
              0.6666666666666666,
              "#ed7953"
             ],
             [
              0.7777777777777778,
              "#fb9f3a"
             ],
             [
              0.8888888888888888,
              "#fdca26"
             ],
             [
              1,
              "#f0f921"
             ]
            ],
            "type": "surface"
           }
          ],
          "table": [
           {
            "cells": {
             "fill": {
              "color": "#EBF0F8"
             },
             "line": {
              "color": "white"
             }
            },
            "header": {
             "fill": {
              "color": "#C8D4E3"
             },
             "line": {
              "color": "white"
             }
            },
            "type": "table"
           }
          ]
         },
         "layout": {
          "annotationdefaults": {
           "arrowcolor": "#2a3f5f",
           "arrowhead": 0,
           "arrowwidth": 1
          },
          "autotypenumbers": "strict",
          "coloraxis": {
           "colorbar": {
            "outlinewidth": 0,
            "ticks": ""
           }
          },
          "colorscale": {
           "diverging": [
            [
             0,
             "#8e0152"
            ],
            [
             0.1,
             "#c51b7d"
            ],
            [
             0.2,
             "#de77ae"
            ],
            [
             0.3,
             "#f1b6da"
            ],
            [
             0.4,
             "#fde0ef"
            ],
            [
             0.5,
             "#f7f7f7"
            ],
            [
             0.6,
             "#e6f5d0"
            ],
            [
             0.7,
             "#b8e186"
            ],
            [
             0.8,
             "#7fbc41"
            ],
            [
             0.9,
             "#4d9221"
            ],
            [
             1,
             "#276419"
            ]
           ],
           "sequential": [
            [
             0,
             "#0d0887"
            ],
            [
             0.1111111111111111,
             "#46039f"
            ],
            [
             0.2222222222222222,
             "#7201a8"
            ],
            [
             0.3333333333333333,
             "#9c179e"
            ],
            [
             0.4444444444444444,
             "#bd3786"
            ],
            [
             0.5555555555555556,
             "#d8576b"
            ],
            [
             0.6666666666666666,
             "#ed7953"
            ],
            [
             0.7777777777777778,
             "#fb9f3a"
            ],
            [
             0.8888888888888888,
             "#fdca26"
            ],
            [
             1,
             "#f0f921"
            ]
           ],
           "sequentialminus": [
            [
             0,
             "#0d0887"
            ],
            [
             0.1111111111111111,
             "#46039f"
            ],
            [
             0.2222222222222222,
             "#7201a8"
            ],
            [
             0.3333333333333333,
             "#9c179e"
            ],
            [
             0.4444444444444444,
             "#bd3786"
            ],
            [
             0.5555555555555556,
             "#d8576b"
            ],
            [
             0.6666666666666666,
             "#ed7953"
            ],
            [
             0.7777777777777778,
             "#fb9f3a"
            ],
            [
             0.8888888888888888,
             "#fdca26"
            ],
            [
             1,
             "#f0f921"
            ]
           ]
          },
          "colorway": [
           "#636efa",
           "#EF553B",
           "#00cc96",
           "#ab63fa",
           "#FFA15A",
           "#19d3f3",
           "#FF6692",
           "#B6E880",
           "#FF97FF",
           "#FECB52"
          ],
          "font": {
           "color": "#2a3f5f"
          },
          "geo": {
           "bgcolor": "white",
           "lakecolor": "white",
           "landcolor": "#E5ECF6",
           "showlakes": true,
           "showland": true,
           "subunitcolor": "white"
          },
          "hoverlabel": {
           "align": "left"
          },
          "hovermode": "closest",
          "mapbox": {
           "style": "light"
          },
          "paper_bgcolor": "white",
          "plot_bgcolor": "#E5ECF6",
          "polar": {
           "angularaxis": {
            "gridcolor": "white",
            "linecolor": "white",
            "ticks": ""
           },
           "bgcolor": "#E5ECF6",
           "radialaxis": {
            "gridcolor": "white",
            "linecolor": "white",
            "ticks": ""
           }
          },
          "scene": {
           "xaxis": {
            "backgroundcolor": "#E5ECF6",
            "gridcolor": "white",
            "gridwidth": 2,
            "linecolor": "white",
            "showbackground": true,
            "ticks": "",
            "zerolinecolor": "white"
           },
           "yaxis": {
            "backgroundcolor": "#E5ECF6",
            "gridcolor": "white",
            "gridwidth": 2,
            "linecolor": "white",
            "showbackground": true,
            "ticks": "",
            "zerolinecolor": "white"
           },
           "zaxis": {
            "backgroundcolor": "#E5ECF6",
            "gridcolor": "white",
            "gridwidth": 2,
            "linecolor": "white",
            "showbackground": true,
            "ticks": "",
            "zerolinecolor": "white"
           }
          },
          "shapedefaults": {
           "line": {
            "color": "#2a3f5f"
           }
          },
          "ternary": {
           "aaxis": {
            "gridcolor": "white",
            "linecolor": "white",
            "ticks": ""
           },
           "baxis": {
            "gridcolor": "white",
            "linecolor": "white",
            "ticks": ""
           },
           "bgcolor": "#E5ECF6",
           "caxis": {
            "gridcolor": "white",
            "linecolor": "white",
            "ticks": ""
           }
          },
          "title": {
           "x": 0.05
          },
          "xaxis": {
           "automargin": true,
           "gridcolor": "white",
           "linecolor": "white",
           "ticks": "",
           "title": {
            "standoff": 15
           },
           "zerolinecolor": "white",
           "zerolinewidth": 2
          },
          "yaxis": {
           "automargin": true,
           "gridcolor": "white",
           "linecolor": "white",
           "ticks": "",
           "title": {
            "standoff": 15
           },
           "zerolinecolor": "white",
           "zerolinewidth": 2
          }
         }
        },
        "title": {
         "font": {
          "color": "#2c3e50",
          "size": 18
         },
         "text": "Hotel Bookings by Country with Statistics",
         "x": 0.5
        },
        "width": 1000
       }
      }
     },
     "metadata": {},
     "output_type": "display_data"
    },
    {
     "name": "stdout",
     "output_type": "stream",
     "text": [
      "\n",
      "Top 10 Countries by Total Bookings:\n",
      "==================================================\n",
      "United Arab Emirates | Bookings: 461  | Avg Nights: 4.03  | Avg Guests: 2.16\n",
      "United States        | Bookings: 377  | Avg Nights: 2.14  | Avg Guests: 2.05\n",
      "Saudi Arabia         | Bookings: 258  | Avg Nights: 3.76  | Avg Guests: 1.85\n",
      "Canada               | Bookings: 108  | Avg Nights: 1.95  | Avg Guests: 2.09\n",
      "Greece               | Bookings: 97   | Avg Nights: 5.57  | Avg Guests: 2.78\n",
      "Sri Lanka            | Bookings: 54   | Avg Nights: 4.76  | Avg Guests: 2.59\n",
      "Italy                | Bookings: 46   | Avg Nights: 3.63  | Avg Guests: 2.93\n",
      "France               | Bookings: 45   | Avg Nights: 4.56  | Avg Guests: 3.49\n",
      "Spain                | Bookings: 39   | Avg Nights: 6.46  | Avg Guests: 4.1\n",
      "Egypt                | Bookings: 35   | Avg Nights: 6.46  | Avg Guests: 2.6\n"
     ]
    }
   ],
   "source": [
    "import plotly.express as px\n",
    "\n",
    "# Create country statistics from the dataframe\n",
    "country_stats = df.groupby('Hotel Country Name').agg({\n",
    "    'Hotel Country Name': 'count',  # Count of bookings\n",
    "    'Room Nights': 'mean',          # Average room nights\n",
    "    'Guests': 'mean'      # Average number of guests\n",
    "}).rename(columns={\n",
    "    'Hotel Country Name': 'Total_Bookings',\n",
    "    'Room Nights': 'Avg_Room_Nights',\n",
    "    'Guests': 'Avg_Guests'\n",
    "}).reset_index()\n",
    "\n",
    "# Round the averages for better display\n",
    "country_stats['Avg_Room_Nights'] = country_stats['Avg_Room_Nights'].round(2)\n",
    "country_stats['Avg_Guests'] = country_stats['Avg_Guests'].round(2)\n",
    "\n",
    "# Create world map with modern, softer color scheme\n",
    "fig = px.choropleth(\n",
    "    country_stats,\n",
    "    locations='Hotel Country Name',\n",
    "    locationmode='country names',\n",
    "    color='Total_Bookings',\n",
    "    hover_data=['Avg_Room_Nights', 'Avg_Guests'],\n",
    "    color_continuous_scale='Plasma',  # Modern purple-pink gradient\n",
    "    title='Hotel Bookings by Country with Statistics'\n",
    ")\n",
    "\n",
    "fig.update_layout(\n",
    "    title_x=0.5,\n",
    "    title_font=dict(size=18, color='#2c3e50'),\n",
    "    geo=dict(\n",
    "        showframe=False, \n",
    "        showcoastlines=True,\n",
    "        coastlinecolor='#ecf0f1',\n",
    "        projection_type='equirectangular'\n",
    "    ),\n",
    "    width=1000,\n",
    "    height=600,\n",
    "    paper_bgcolor='#f8f9fa',\n",
    "    font=dict(color='#34495e')\n",
    ")\n",
    "\n",
    "# Update colorbar styling\n",
    "fig.update_coloraxes(\n",
    "    colorbar_title_font=dict(size=14, color='#2c3e50'),\n",
    "    colorbar_tickfont=dict(color='#34495e')\n",
    ")\n",
    "\n",
    "fig.show()\n",
    "\n",
    "# Display statistics with better formatting\n",
    "print(\"\\nTop 10 Countries by Total Bookings:\")\n",
    "print(\"=\" * 50)\n",
    "top_countries = country_stats.sort_values('Total_Bookings', ascending=False).head(10)\n",
    "for idx, row in top_countries.iterrows():\n",
    "    print(f\"{row['Hotel Country Name']:<20} | Bookings: {row['Total_Bookings']:<4} | Avg Nights: {row['Avg_Room_Nights']:<5} | Avg Guests: {row['Avg_Guests']}\")"
   ]
  }
 ],
 "metadata": {
  "kernelspec": {
   "display_name": "Python 3",
   "language": "python",
   "name": "python3"
  },
  "language_info": {
   "codemirror_mode": {
    "name": "ipython",
    "version": 3
   },
   "file_extension": ".py",
   "mimetype": "text/x-python",
   "name": "python",
   "nbconvert_exporter": "python",
   "pygments_lexer": "ipython3",
   "version": "3.12.10"
  }
 },
 "nbformat": 4,
 "nbformat_minor": 5
}
